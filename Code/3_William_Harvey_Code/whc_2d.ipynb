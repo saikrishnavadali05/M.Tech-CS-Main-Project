{
 "cells": [
  {
   "cell_type": "code",
   "execution_count": 2,
   "metadata": {
    "ExecuteTime": {
     "end_time": "2020-03-12T15:01:31.706669Z",
     "start_time": "2020-03-12T15:01:31.701104Z"
    },
    "cell_style": "center",
    "run_control": {
     "marked": true
    }
   },
   "outputs": [],
   "source": [
    "from __future__ import division\n",
    "\n",
    "import glob\n",
    "\n",
    "import autopep8\n",
    "import cv2\n",
    "import numpy as np\n",
    "import pylint\n",
    "import scipy.sparse\n",
    "from matplotlib import pyplot as plt\n",
    "from scipy.ndimage import imread\n",
    "from scipy.ndimage.filters import convolve, gaussian_filter\n",
    "from scipy.sparse import diags\n",
    "\n",
    "#\n",
    "#from pyOpticalFlow import getimgfiles\n",
    "\n",
    "%matplotlib inline\n",
    "\n",
    "FILTER = 7\n",
    "QUIVER = 5"
   ]
  },
  {
   "cell_type": "markdown",
   "metadata": {},
   "source": []
  },
  {
   "cell_type": "code",
   "execution_count": null,
   "metadata": {},
   "outputs": [],
   "source": []
  },
  {
   "cell_type": "code",
   "execution_count": null,
   "metadata": {},
   "outputs": [],
   "source": []
  },
  {
   "cell_type": "code",
   "execution_count": null,
   "metadata": {},
   "outputs": [],
   "source": []
  },
  {
   "cell_type": "code",
   "execution_count": 2,
   "metadata": {
    "ExecuteTime": {
     "end_time": "2020-01-20T08:52:33.906327Z",
     "start_time": "2020-01-20T08:52:33.902806Z"
    },
    "code_folding": []
   },
   "outputs": [],
   "source": [
    "## SCRATCH CODE"
   ]
  },
  {
   "cell_type": "code",
   "execution_count": 3,
   "metadata": {
    "ExecuteTime": {
     "end_time": "2020-01-20T08:52:34.003235Z",
     "start_time": "2020-01-20T08:52:33.907766Z"
    },
    "code_folding": []
   },
   "outputs": [],
   "source": [
    "# from PIL import Image\n",
    "# w, h = 512, 512\n",
    "# data = np.zeros((h, w, 3), dtype=np.uint8)\n",
    "# print(data)\n",
    "# data[256, 256] = [255, 0, 0]\n",
    "# img = Image.fromarray(data,)\n",
    "# img.save('my.png')\n",
    "# img.show()"
   ]
  },
  {
   "cell_type": "code",
   "execution_count": 4,
   "metadata": {
    "ExecuteTime": {
     "end_time": "2020-01-20T08:52:34.087577Z",
     "start_time": "2020-01-20T08:52:34.004697Z"
    },
    "code_folding": []
   },
   "outputs": [],
   "source": [
    "# A is a scalar value\n",
    "def scalar_product(A, B):\n",
    "\n",
    "    return numpy.multiply(A, B)\n",
    "\n",
    "\n",
    "def kron_product(A, B):\n",
    "\n",
    "    for i in range(1, len(A)):\n",
    "\n",
    "        scalar_product(A[i], B)\n",
    "\n",
    "    return kron_output_mat\n",
    "\n",
    "\n",
    "def Diag(S):\n",
    "\n",
    "    return np.diagonal(S)\n",
    "\n",
    "\n",
    "def Mat_S(S):\n",
    "\n",
    "    for i in range(1, m):\n",
    "        for j in range(1, m):\n",
    "\n",
    "            for k in range(1, m):\n",
    "\n",
    "                # returns an array of diagonal elements\n",
    "                diag_array = list(Diag(S[i][j][k]))\n",
    "                diag_mat_S[k][j][i] = diag_array\n",
    "\n",
    "                k += 1\n",
    "\n",
    "            j += 1\n",
    "\n",
    "        i += 1\n",
    "\n",
    "    return diag_mat_S"
   ]
  },
  {
   "cell_type": "code",
   "execution_count": 5,
   "metadata": {
    "ExecuteTime": {
     "end_time": "2020-01-20T08:52:34.187115Z",
     "start_time": "2020-01-20T08:52:34.088951Z"
    },
    "code_folding": []
   },
   "outputs": [],
   "source": [
    "def plot(img_data):\n",
    "\n",
    "    #from matplotlib import pyplot as plt\n",
    "    plt.imshow(img_data, interpolation='nearest')\n",
    "    plt.show()\n",
    "    return True"
   ]
  },
  {
   "cell_type": "code",
   "execution_count": 6,
   "metadata": {
    "ExecuteTime": {
     "end_time": "2020-01-20T08:52:34.279752Z",
     "start_time": "2020-01-20T08:52:34.188292Z"
    },
    "code_folding": []
   },
   "outputs": [],
   "source": [
    "def test_equality(fx,fy,ft):\n",
    "    if (np.array_equal(fx,fy)) :\n",
    "        print(\"fx and fy are same\")\n",
    "        if (np.array_equal(fy,ft)):\n",
    "            print(\"All the three derivatives are same\")\n",
    "        \n",
    "    elif (np.array_equal(fx,ft)):\n",
    "        print(\"fx and ft are same\")\n",
    "    elif (np.array_equal(fy,ft)):\n",
    "        print(\"fy and ft are same\")\n",
    "    else:\n",
    "        print(\"All the three derivatives are different\")\n",
    "        \n",
    "    \n",
    "    "
   ]
  },
  {
   "cell_type": "code",
   "execution_count": null,
   "metadata": {},
   "outputs": [],
   "source": []
  },
  {
   "cell_type": "code",
   "execution_count": null,
   "metadata": {},
   "outputs": [],
   "source": []
  },
  {
   "cell_type": "code",
   "execution_count": null,
   "metadata": {},
   "outputs": [],
   "source": []
  },
  {
   "cell_type": "markdown",
   "metadata": {},
   "source": [
    "## COMPUTING OPTICAL FLOW \n",
    "#code taken from HORN-SCHUNK PROGRAM"
   ]
  },
  {
   "cell_type": "code",
   "execution_count": 3,
   "metadata": {
    "ExecuteTime": {
     "end_time": "2020-03-12T15:01:36.669294Z",
     "start_time": "2020-03-12T15:01:36.662524Z"
    },
    "code_folding": [
     0
    ]
   },
   "outputs": [],
   "source": [
    "def computeDoubleDerivatives(single_derivative_x, single_derivative_y, kernelX, kernelY):\n",
    "    fx = single_derivative_x\n",
    "    fy = single_derivative_y\n",
    "\n",
    "    # computing double derivatives for fx and fy:\n",
    "    #scipy.ndimage.filters.convolve(input, weights, output=None, mode='reflect', cval=0.0, origin=0)\n",
    "\n",
    "#     input : array_like\n",
    "#     Input array to filter.\n",
    "\n",
    "#     weights : array_like\n",
    "#     Array of weights, same number of dimensions as input\n",
    "\n",
    "\n",
    "#     print(fx.shape) #(200,200)\n",
    "#     print(fy.shape) #(200,200)\n",
    "#     print(kernelX.shape) #(2,2)\n",
    "#     print(kernelY.shape) #(2,2)\n",
    "\n",
    "    fxx = convolve(fx, kernelX)\n",
    "\n",
    "    fyy = convolve(fy, kernelY)\n",
    "\n",
    "    return fxx, fyy\n",
    "    # TODO : computing other derivatives.\n",
    "    # fxy\n",
    "    # fyx"
   ]
  },
  {
   "cell_type": "code",
   "execution_count": 11,
   "metadata": {
    "ExecuteTime": {
     "end_time": "2020-03-12T15:05:17.903552Z",
     "start_time": "2020-03-12T15:05:17.893843Z"
    },
    "code_folding": []
   },
   "outputs": [],
   "source": [
    "def william_harvey_lk(im1, im2, alpha, Niter):\n",
    "    \"\"\"\n",
    "    im1: image at t=0\n",
    "    im2: image at t=1\n",
    "    alpha: regularization constant\n",
    "    Niter: number of iteration\n",
    "    \"\"\"\n",
    "\n",
    "\n",
    "#     fx = np.zeros(im1.shape)\n",
    "#     fy = np.zeros(im1.shape)\n",
    "#     ft = np.zeros(im1.shape)\n",
    "\n",
    "\n",
    "#     #not understood!\n",
    "#     #???\n",
    "#     fx[1:-1, 1:-1] = (im1[1:-1, 2:] - im1[1:-1, :-2]) / 2\n",
    "#     fy[1:-1, 1:-1] = (im1[2:, 1:-1] - im1[:-2, 1:-1]) / 2\n",
    "#     ft[1:-1, 1:-1] = im1[1:-1, 1:-1] - im2[1:-1, 1:-1]\n",
    "#     #???\n",
    "\n",
    "    uInitial = np.zeros([im1.shape[0], im1.shape[1]])\n",
    "    vInitial = np.zeros([im1.shape[0], im1.shape[1]])\n",
    "\n",
    "    U = uInitial\n",
    "    V = vInitial\n",
    "\n",
    "    [fx, fy, fxx, fyy, ft] = computeDerivatives(im1, im2)\n",
    "\n",
    "#     fg,ax = plt.subplots(1,3,figsize=(18,5))\n",
    "\n",
    "#     for f,a,t in zip((fx,fy,ft),ax,('$f_x$','$f_y$','$f_t$')):\n",
    "#         h=a.imshow(f,cmap='bwr')\n",
    "#         a.set_title(t)\n",
    "#         fg.colorbar(h,ax=a)\n",
    "\n",
    "    # Averaging kernel\n",
    "    kernel = np.array([[1/12, 1/6, 1/12],\n",
    "                       [1/6,    0, 1/6],\n",
    "                       [1/12, 1/6, 1/12]], float)\n",
    "\n",
    "#     print(fx[100,100],fy[100,100],ft[100,100])\n",
    "\n",
    "    # Iteration to reduce error\n",
    "    for _ in range(Niter):\n",
    "        # %% Compute local averages of the flow vectors\n",
    "        uAvg = convolve(U, kernel)\n",
    "        vAvg = convolve(V, kernel)\n",
    "# %% common part of update step\n",
    "        der = (fx*uAvg + fy*vAvg + ft) / (alpha**2 + fx**2 + fy**2)\n",
    "# %% iterative step\n",
    "        U = uAvg - fx * der\n",
    "        V = vAvg - fy * der\n",
    "\n",
    "    return U, V"
   ]
  },
  {
   "cell_type": "code",
   "execution_count": 9,
   "metadata": {
    "ExecuteTime": {
     "end_time": "2020-01-20T08:52:34.596352Z",
     "start_time": "2020-01-20T08:52:34.480617Z"
    },
    "code_folding": [
     0
    ]
   },
   "outputs": [],
   "source": [
    "# permutation matrix P:\n",
    "\n",
    "\n",
    "def P(vec_2d):\n",
    "\n",
    "    uInitial = np.zeros([im1.shape[0], im1.shape[1]])\n",
    "    vInitial = np.zeros([im1.shape[0], im1.shape[1]])\n",
    "\n",
    "    U = uInitial\n",
    "    V = vInitial\n",
    "\n",
    "    [fx, fy, fxx, fyy, ft] = computeDerivatives(im1, im2)\n",
    "\n",
    "    kernel = np.array([[1/12, 1/6, 1/12],\n",
    "                       [1/6,    0, 1/6],\n",
    "                       [1/12, 1/6, 1/12]], float)\n",
    "\n",
    "    for _ in range(Niter):\n",
    "        # %% Compute local averages of the flow vectors\n",
    "        uAvg = convolve(U, kernel)\n",
    "        vAvg = convolve(V, kernel)\n",
    "# %% common part of update step\n",
    "        der = (fx*uAvg + fy*vAvg + ft) / (alpha**2 + fx**2 + fy**2)\n",
    "# %% iterative step\n",
    "        U = uAvg - fx * der\n",
    "        V = vAvg - fy * der\n",
    "\n",
    "    return U, V"
   ]
  },
  {
   "cell_type": "code",
   "execution_count": 12,
   "metadata": {
    "ExecuteTime": {
     "end_time": "2020-03-12T15:05:20.365207Z",
     "start_time": "2020-03-12T15:05:20.358730Z"
    },
    "code_folding": []
   },
   "outputs": [],
   "source": [
    "def compareGraphs(u, v, Inew, scale=1):\n",
    "    \"\"\"\n",
    "    makes quiver\n",
    "    \"\"\"\n",
    "\n",
    "    ax = plt.figure().gca()\n",
    "    # print(ax.gca())\n",
    "    # matplotlib.pyplot.figure --- Create a new figure.\n",
    "    # matplotlib.pyplot.gca --- Get the current Axes instance on the current figure\n",
    "#                                 matching the given keyword args, or create one.\n",
    "\n",
    "    print(\"ax:\", ax)\n",
    "    print(\"data_type of variable ax :\", type(ax))\n",
    "    ax.imshow(Inew, cmap='gray')\n",
    "\n",
    "#     ax: AxesSubplot(0.125,0.125;0.775x0.755)\n",
    "#     data_type of variable ax : <class 'matplotlib.axes._subplots.AxesSubplot'>\n",
    "\n",
    "    # plt.scatter(POI[:,0,1],POI[:,0,0])\n",
    "\n",
    "    #QUIVER = 5\n",
    "    # range(start,stop,step)\n",
    "\n",
    "    print(\"LENGTH OF U and V: \", len(u), len(v))\n",
    "    # u and v length is 200,200.\n",
    "\n",
    "    for i in range(0, len(u), QUIVER):\n",
    "        for j in range(0, len(v), QUIVER):\n",
    "            ax.arrow(j, i, v[i, j]*scale, u[i, j]*scale, color='red')\n",
    "            ax.annotate(\"\", xy=(0.5, 0.5), xytext=(0, 0),\n",
    "                        arrowprops=dict(arrowstyle=\"->\"))\n",
    "\n",
    "    plt.savefig('mini_cooper.pdf')\n",
    "    # ax.draw()\n",
    "    # matplotlib.pyplot.arrow(x, y, dx, dy, **kwargs)\n",
    "    # Add an arrow to the axes.\n",
    "    # This draws an arrow from (x, y) to (x+dx, y+dy).\n",
    "\n",
    "    # plt.arrow(POI[:,0,0],POI[:,0,1],0,-5)\n",
    "\n",
    "    # plt.draw();\n",
    "    # plt.savefig('horn_shunck_ouput.png')\n",
    "    # plt.pause(0.01)\n",
    "\n",
    "    # ax.savefig('ax_output.png')"
   ]
  },
  {
   "cell_type": "code",
   "execution_count": 13,
   "metadata": {
    "ExecuteTime": {
     "end_time": "2020-03-12T15:05:23.489322Z",
     "start_time": "2020-03-12T15:05:23.481341Z"
    },
    "code_folding": []
   },
   "outputs": [],
   "source": [
    "def inputting_img():\n",
    "    #flist,ext = getimgfiles(stem)\n",
    "\n",
    "    im1_path = str(\"/home/saikrishna/Desktop/sem3/project/july/William_Harvey_Code/mini1.png\")\n",
    "    im2_path = str(\"/home/saikrishna/Desktop/sem3/project/july/William_Harvey_Code/mini2.png\")\n",
    "   \n",
    "    #cv_im1 = cv2.cvtColor(cv2.imread(im1_path),cv2.COLOR_RGB2GRAY)\n",
    "    #cv_im2 = cv2.cvtColor(cv2.imread(im2_path),cv2.COLOR_RGB2GRAY)\n",
    "    \n",
    "    #u1, v1 = william_harvey_lk(cv_im1,cv_im2)\n",
    "    \n",
    "    #for i in range(len(flist)-1):\n",
    "    #   fn1 = str(stem) +'.'+ str(i) + ext\n",
    "    Iold = imread(im1_path,flatten=True).astype(float)  #flatten=True is rgb2gray\n",
    "    Iold = gaussian_filter(Iold,FILTER)\n",
    "\n",
    "    #   fn2 = str(stem) + '.' + str(i+1) + ext\n",
    "    Inew = imread(im2_path,flatten=True).astype(float)\n",
    "    Inew = gaussian_filter(Inew,FILTER)\n",
    "        #plt.imshow(imgNew)\n",
    "        #plt.title('new image')\n",
    "\n",
    "    [U,V] = william_harvey_lk(Iold, Inew, 1, 100)\n",
    "    #print(\"PRINTING U and V : \",[U,V])\n",
    "    print(\"U TYPE:\",type(U))# U - NUMPY ND ARRAY\n",
    "    print(\"V TYPE:\",type(U))# V - NUMPY ND ARRAY\n",
    "    print(\"[U,V] TYPE:\",type([U,V]))# [U,V] - list\n",
    "    print(\"U shape :\",U.shape)\n",
    "    print(\"V shape :\",V.shape)\n",
    "    \n",
    "    compareGraphs(U,V,Inew)\n",
    "\n",
    "\n",
    "    return U,V"
   ]
  },
  {
   "cell_type": "code",
   "execution_count": 14,
   "metadata": {
    "ExecuteTime": {
     "end_time": "2020-03-12T15:05:32.801850Z",
     "start_time": "2020-03-12T15:05:24.506257Z"
    }
   },
   "outputs": [
    {
     "name": "stderr",
     "output_type": "stream",
     "text": [
      "/home/saikrishna/anaconda3/lib/python3.7/site-packages/ipykernel_launcher.py:14: DeprecationWarning: `imread` is deprecated!\n",
      "`imread` is deprecated in SciPy 1.0.0.\n",
      "Use ``matplotlib.pyplot.imread`` instead.\n",
      "  \n",
      "/home/saikrishna/anaconda3/lib/python3.7/site-packages/ipykernel_launcher.py:18: DeprecationWarning: `imread` is deprecated!\n",
      "`imread` is deprecated in SciPy 1.0.0.\n",
      "Use ``matplotlib.pyplot.imread`` instead.\n"
     ]
    },
    {
     "name": "stdout",
     "output_type": "stream",
     "text": [
      "U TYPE: <class 'numpy.ndarray'>\n",
      "V TYPE: <class 'numpy.ndarray'>\n",
      "[U,V] TYPE: <class 'list'>\n",
      "U shape : (200, 200)\n",
      "V shape : (200, 200)\n",
      "ax: AxesSubplot(0.125,0.125;0.775x0.755)\n",
      "data_type of variable ax : <class 'matplotlib.axes._subplots.AxesSubplot'>\n",
      "LENGTH OF U and V:  200 200\n"
     ]
    },
    {
     "data": {
      "image/png": "[encoded data removed]",
      "text/plain": [
       "<Figure size 432x288 with 1 Axes>"
      ]
     },
     "metadata": {
      "needs_background": "light"
     },
     "output_type": "display_data"
    }
   ],
   "source": [
    "if __name__ == '__main__':\n",
    "    #from argparse import ArgumentParser\n",
    "    #p = ArgumentParser(description='Pure Python Horn Schunck Optical Flow')\n",
    "    #p.add_argument('stem',help='path/stem of files to analyze')\n",
    "    #p = p.parse_args()\n",
    "\n",
    "    U, V = inputting_img()\n",
    "\n",
    "    # plt.show()\n",
    "    #success = plt.savefig('horn_shunck_ouput.png')\n",
    "    # print(success)"
   ]
  },
  {
   "cell_type": "markdown",
   "metadata": {},
   "source": []
  },
  {
   "cell_type": "code",
   "execution_count": null,
   "metadata": {},
   "outputs": [],
   "source": []
  },
  {
   "cell_type": "markdown",
   "metadata": {},
   "source": []
  },
  {
   "cell_type": "markdown",
   "metadata": {
    "cell_style": "center"
   },
   "source": [
    "## ACTUAL WILLIAM HARVEY CODE IMPLEMENTATION STARTS HERE:"
   ]
  },
  {
   "cell_type": "code",
   "execution_count": null,
   "metadata": {
    "ExecuteTime": {
     "end_time": "2020-01-20T08:52:35.149931Z",
     "start_time": "2020-01-20T08:52:33.024Z"
    },
    "scrolled": true
   },
   "outputs": [],
   "source": [
    "FILTER = 7\n",
    "QUIVER = 5\n",
    "\n",
    "\n",
    "def S():\n",
    "    im1_path = str(\n",
    "        \"/home/saikrishna/Desktop/sem3/project/july/William_Harvey_Code/box0.bmp\"\n",
    "    )\n",
    "    im2_path = str(\n",
    "        \"/home/saikrishna/Desktop/sem3/project/july/William_Harvey_Code/box1.bmp\"\n",
    "    )\n",
    "\n",
    "    Iold = imread(im1_path, flatten=True).astype(float)\n",
    "    Iold = gaussian_filter(Iold, FILTER)\n",
    "\n",
    "    Inew = imread(im2_path, flatten=True).astype(float)\n",
    "    Inew = gaussian_filter(Inew, FILTER)\n",
    "\n",
    "    #cv_im1 = cv2.cvtColor(cv2.imread(im1_path),cv2.COLOR_RGB2GRAY)\n",
    "    #cv_im2 = cv2.cvtColor(cv2.imread(im2_path),cv2.COLOR_RGB2GRAY)\n",
    "\n",
    "    #u1, v1 = william_harvey_lk(cv_im1,cv_im2,1,100)\n",
    "    fx, fy, fxx, fyy, ft = computeDerivatives(Iold, Inew)\n",
    "\n",
    "    mat_fx = np.matrix(fx)\n",
    "    mat_fy = np.matrix(fy)\n",
    "\n",
    "    fx_sq = np.matmul(mat_fx, mat_fx)\n",
    "    # print(fx_sq.shape)\n",
    "    fy_sq = np.matmul(mat_fy, mat_fy)\n",
    "    # print(fy_sq.shape)\n",
    "    fx_fy = np.matmul(mat_fx, mat_fy)\n",
    "    # print(fx_fy.shape)\n",
    "    fy_fx = np.matmul(mat_fy, mat_fx)\n",
    "    # print(fy_fx.shape)\n",
    "\n",
    "    s_mat = np.bmat([[fx_sq, fx_fy], [fy_fx, fy_sq]])\n",
    "    tensor_s = np.asarray(s_mat)\n",
    "    # print(tensor_s.shape)\n",
    "    # tensor_s shape is 400*400\n",
    "    #tensor_s = np.matrix([[fx_sq, fx_fy], [fy_fx, fy_sq]])\n",
    "\n",
    "    return tensor_s\n",
    "\n",
    "\n",
    "tensor_s = S()\n",
    "# print(tensor_s)"
   ]
  },
  {
   "cell_type": "code",
   "execution_count": null,
   "metadata": {
    "ExecuteTime": {
     "end_time": "2020-01-20T08:52:35.150687Z",
     "start_time": "2020-01-20T08:52:33.029Z"
    }
   },
   "outputs": [],
   "source": [
    "def I(dim):\n",
    "    return np.identity(dim, dtype=float)"
   ]
  },
  {
   "cell_type": "code",
   "execution_count": null,
   "metadata": {
    "ExecuteTime": {
     "end_time": "2020-01-20T08:52:35.151471Z",
     "start_time": "2020-01-20T08:52:33.034Z"
    }
   },
   "outputs": [],
   "source": [
    "def sc():\n",
    "    tou = 0.1\n",
    "    alpha = 25\n",
    "    # some scalar sc\n",
    "    sc = tou/float(alpha)\n",
    "    # print(sc)\n",
    "    # 0.004\n",
    "    return sc"
   ]
  },
  {
   "cell_type": "code",
   "execution_count": 10,
   "metadata": {
    "ExecuteTime": {
     "end_time": "2020-03-12T15:04:59.952553Z",
     "start_time": "2020-03-12T15:04:59.946809Z"
    },
    "code_folding": []
   },
   "outputs": [],
   "source": [
    "def computeDerivatives(im1, im2):\n",
    "    # %% build kernels for calculating derivatives\n",
    "    kernelX = np.array([[-1, 1],\n",
    "                        [-1, 1]]) * .25  # kernel for computing d/dx\n",
    "    kernelY = np.array([[-1, -1],\n",
    "                        [1, 1]]) * .25  # kernel for computing d/dy\n",
    "    kernelT = np.ones((2, 2))*.25\n",
    "\n",
    "    # im1 type: <class 'numpy.ndarray'>\n",
    "    # im2 type: <class 'numpy.ndarray'>\n",
    "#     print(\"im1 type:\",type(im1),\"im2 type:\",type(im2))\n",
    "    # convolving im1,im2 with kernelX and adding the result of both the conv operations\n",
    "\n",
    "    #print(f'image1 shape : {im1.shape} , kernelX shape : {kernelX.shape}')\n",
    "    fx = convolve(im1, kernelX) + convolve(im2, kernelX)\n",
    "\n",
    "    # plot(fx)\n",
    "    fy = convolve(im1, kernelY) + convolve(im2, kernelY)\n",
    "    # plot(fy)\n",
    "    #ft = im2 - im1\n",
    "    ft = convolve(im1, kernelT) + convolve(im2, -kernelT)\n",
    "    # plot(ft)\n",
    "\n",
    "    #fx = single_derivative_x\n",
    "    #fy = single_derivative_y\n",
    "\n",
    "    # computing double derivatives for fx and fy:\n",
    "    #scipy.ndimage.filters.convolve(input, weights, output=None, mode='reflect', cval=0.0, origin=0)\n",
    "\n",
    "#     input : array_like\n",
    "#     Input array to filter.\n",
    "\n",
    "#     weights : array_like\n",
    "#     Array of weights, same number of dimensions as input\n",
    "\n",
    "#     print(fx.shape)\n",
    "#     print(fy.shape)\n",
    "#     print(kernelX.shape)\n",
    "#     print(kernelY.shape)\n",
    "\n",
    "    fxx = 0\n",
    "    fyy = 0\n",
    "    fxx = convolve(fx, kernelX)\n",
    "\n",
    "    fyy = convolve(fy, kernelY)\n",
    "\n",
    "    #fxx,fyy = computeDoubleDerivatives(fx,fy,kernelX,kernelY)\n",
    "    # print(\"fx=\",fx)\n",
    "    # print(\"fx=\",fy)\n",
    "    # print(\"fx=\",ft)\n",
    "    return fx, fy, fxx, fyy, ft"
   ]
  },
  {
   "cell_type": "code",
   "execution_count": null,
   "metadata": {
    "ExecuteTime": {
     "end_time": "2020-01-20T08:52:35.153044Z",
     "start_time": "2020-01-20T08:52:33.045Z"
    },
    "code_folding": []
   },
   "outputs": [],
   "source": [
    "def c():\n",
    "\n",
    "    im1_path = str(\n",
    "        \"/home/saikrishna/Desktop/sem3/project/july/William_Harvey_Code/box0.bmp\")\n",
    "    im2_path = str(\n",
    "        \"/home/saikrishna/Desktop/sem3/project/july/William_Harvey_Code/box1.bmp\")\n",
    "\n",
    "    Iold = imread(im1_path, flatten=True).astype(float)\n",
    "    Iold = gaussian_filter(Iold, FILTER)\n",
    "    # print(type(Iold))\n",
    "\n",
    "    Inew = imread(im2_path, flatten=True).astype(float)\n",
    "    Inew = gaussian_filter(Inew, FILTER)\n",
    "\n",
    "    fx, fy, fxx, fyy, ft = computeDerivatives(Iold, Inew)\n",
    "\n",
    "    # gradient of old image\n",
    "    s_old = np.gradient(Iold)\n",
    "    s_new = np.gradient(Inew)\n",
    "\n",
    "    print(type(s_old), type(s_new))\n",
    "    print(\n",
    "        f' shape of gradient s[0] : {s_old[0].shape},shape of gradient s[1] : {s_old[1].shape}')\n",
    "    print(\n",
    "        f' shape of gradient s[0] : {s_new[0].shape},shape of gradient s[1] : {s_new[1].shape}')\n",
    "    #(2, 200, 200),(2, 200, 200)\n",
    "\n",
    "    # s = np.gradient(Inew)\n",
    "    matrix_c_old = -(sc()*ft*s_old)\n",
    "    matrix_c_new = -(sc()*ft*s_new)\n",
    "\n",
    "    print(type(matrix_c_old))\n",
    "    print(f'matrix_c_old shape :{matrix_c_old.shape}')\n",
    "\n",
    "    print(\"SUCCESS! SWAMI'S GRACE!\")\n",
    "    return matrix_c_old\n",
    "    # returns numpy array\n",
    "\n",
    "\n",
    "c().shape\n",
    "c()\n",
    "#(2, 200, 200)\n",
    "#print(\"SUCCESS! SWAMI'S GRACE!\")"
   ]
  },
  {
   "cell_type": "code",
   "execution_count": null,
   "metadata": {
    "ExecuteTime": {
     "end_time": "2020-01-20T08:52:35.153819Z",
     "start_time": "2020-01-20T08:52:33.049Z"
    },
    "code_folding": []
   },
   "outputs": [],
   "source": [
    "def A():\n",
    "    IA = I(400)\n",
    "\n",
    "    temp = sc()*S()\n",
    "    return np.add(IA, temp)\n",
    "# print(A())"
   ]
  },
  {
   "cell_type": "code",
   "execution_count": null,
   "metadata": {
    "ExecuteTime": {
     "end_time": "2020-01-20T08:52:35.154539Z",
     "start_time": "2020-01-20T08:52:33.053Z"
    },
    "code_folding": []
   },
   "outputs": [],
   "source": [
    "# generating quiver plot:\n",
    "\n",
    "\"\"\"\n",
    "makes quiver\n",
    "\"\"\"\n",
    "\n",
    "def quiver_plot(U, V, Inew, scale=1):\n",
    "    ax = plt.figure().gca()\n",
    "    ax.imshow(Inew, cmap='gray')\n",
    "\n",
    "    print(\"LENGTH OF U and V: \", len(U), len(V))\n",
    "    # u and v length is 200,200.\n",
    "\n",
    "    for i in range(0, len(U), QUIVER):\n",
    "        for j in range(0, len(V), QUIVER):\n",
    "            ax.arrow(j, i, v[i, j]*scale, u[i, j]*scale, color='yellow')\n",
    "            ax.annotate(\"\", xy=(0.5, 0.5), xytext=(0, 0),\n",
    "                        arrowprops=dict(arrowstyle=\"->\"))\n",
    "\n",
    "    plt.savefig('william_harvey_code.pdf')"
   ]
  },
  {
   "cell_type": "code",
   "execution_count": null,
   "metadata": {
    "ExecuteTime": {
     "end_time": "2020-01-20T08:52:35.155221Z",
     "start_time": "2020-01-20T08:52:33.058Z"
    },
    "code_folding": []
   },
   "outputs": [],
   "source": [
    "def eqn(A, B, c):\n",
    "    # this equation is to be solved\n",
    "\n",
    "    print(A().shape)\n",
    "    #(400,400)\n",
    "    \n",
    "    #print(B().shape)\n",
    "    #print(c().shape)\n",
    "    u = np.random.rand(200,200)\n",
    "    print(type(u))\n",
    "    \n",
    "    v = np.random.rand(200,200)\n",
    "    \n",
    "#     np.random.randint(0,255)\n",
    "    \n",
    "    assert u.shape == v.shape, \"something is wrong bro!\\\n",
    "                                check your code !\\\n",
    "                                  how are the dimensions of u and v different?\"\n",
    "\n",
    "    if not((A().shape == u.shape) and (B().shape == v.shape) and (c().shape == v.shape)):\n",
    "        print(\"dims of matrices A,B,c are not equal!\")\n",
    "\n",
    "    else:\n",
    "        mat_A = A.T\n",
    "        mat_B = B.T\n",
    "        for i in range(0, len(u), QUIVER):\n",
    "            for j in range(0, len(v), QUIVER):\n",
    "\n",
    "                u[i, j], v[i, j] = (\n",
    "                    mat_A*(u[i, j], v[i, j]) - mat_B*(u[i, j], v[i, j])) + c()\n",
    "\n",
    "        U = np.ndarray(u)\n",
    "        V = np.ndarray(v)\n",
    "\n",
    "    return U, V\n",
    "\n",
    "U,V = eqn(A,B,c)\n",
    "print(U,V)"
   ]
  },
  {
   "cell_type": "code",
   "execution_count": 2,
   "metadata": {
    "ExecuteTime": {
     "end_time": "2020-03-04T18:30:06.947815Z",
     "start_time": "2020-03-04T18:30:06.921825Z"
    },
    "code_folding": []
   },
   "outputs": [
    {
     "data": {
      "text/plain": [
       "array([[-2.,  1.],\n",
       "       [ 1., -2.]])"
      ]
     },
     "execution_count": 2,
     "metadata": {},
     "output_type": "execute_result"
    }
   ],
   "source": [
    "from scipy.sparse import diags\n",
    "import numpy as np\n",
    "\n",
    "def D2(n):\n",
    "    #n = 400\n",
    "    k = np.array([np.ones(n-1), -2*np.ones(n), np.ones(n-1)])\n",
    "    offset = [-1, 0, 1]\n",
    "    D2 = diags(k, offset).toarray()\n",
    "\n",
    "    return D2\n",
    "# print(D2)\n",
    "\n",
    "D2(2)"
   ]
  },
  {
   "cell_type": "code",
   "execution_count": null,
   "metadata": {
    "ExecuteTime": {
     "end_time": "2020-01-20T08:52:35.156629Z",
     "start_time": "2020-01-20T08:52:33.066Z"
    },
    "code_folding": []
   },
   "outputs": [],
   "source": [
    "tou = 0.1\n",
    "def B(u, v):\n",
    "\n",
    "    IB = I(400)\n",
    "    tou = 0.1\n",
    "    u = []\n",
    "    v = []\n",
    "    L = Mat_L(u, v)\n",
    "    \n",
    "    #print(\"tou t\"type())\n",
    "    \n",
    "    mul = tou * 0\n",
    "    \n",
    "  #  print(type(mul[1][1]))\n",
    "\n",
    " #   print(mul[1][1])\n",
    "    # type(mul[1][1]) : <class 'scipy.sparse.csr.csr_matrix'>\n",
    "\n",
    "    mul_non_zero = []\n",
    "\n",
    "#     for i in range(0, 200):\n",
    "#         for j in range(0, 200):\n",
    "#             for k in range(0, 200):\n",
    "\n",
    "#                 # returns the nonzero index from mul array of sparse matrices :\n",
    "#                 nonzero_index = mul[i][j][k].nonzero()\n",
    "\n",
    "#     print(nonzero_index)\n",
    "\n",
    "    # print(mul[1][1].nonzero())\n",
    "\n",
    "    if type(IB) == type(mul):\n",
    "        #print(\"type(IB) == type(mul)\")\n",
    "        if IB.shape == mul.shape:\n",
    "\n",
    "            mat_B = np.add(IB, mul)\n",
    "            return mat_B\n",
    "    else:\n",
    "        print(\"addition not possible\")\n",
    "        mat_B = []\n",
    "    return mat_B"
   ]
  },
  {
   "cell_type": "code",
   "execution_count": null,
   "metadata": {
    "ExecuteTime": {
     "end_time": "2020-01-20T08:52:35.157373Z",
     "start_time": "2020-01-20T08:52:33.070Z"
    }
   },
   "outputs": [],
   "source": [
    "%xmode Plain"
   ]
  },
  {
   "cell_type": "code",
   "execution_count": null,
   "metadata": {
    "ExecuteTime": {
     "end_time": "2020-01-20T08:52:35.158054Z",
     "start_time": "2020-01-20T08:52:33.074Z"
    },
    "code_folding": []
   },
   "outputs": [],
   "source": [
    "from scipy.sparse import identity, kronsum\n",
    "\n",
    "\n",
    "def kron_product(A, B, C):\n",
    "\n",
    "    MAT = np.kron(A, B)\n",
    "    output = np.kron(MAT, C)\n",
    "    return output\n",
    "\n",
    "\n",
    "def kron_add(kp1,kp2,kp3):\n",
    "    MAT = np.kronsum(kp1,kp2)\n",
    "    output = np.kronsum(MAT,kp3)\n",
    "    return output\n",
    "\n",
    "\n",
    "def Mat_L(u, v):\n",
    "\n",
    "    I3 = identity(3)\n",
    "    L_D2 = D2(n=400)\n",
    "    P = np.ndarray(u, v)\n",
    "    P_Transpose = P.T\n",
    "    I200 = identity(200)\n",
    "\n",
    "    kp1 = []\n",
    "    kp2 = []\n",
    "    kp3 = []\n",
    "\n",
    "    kp1 = kron_product(L_D2, I200, I200)\n",
    "    kp2 = kron_product(I200, L_D2, I200)\n",
    "    kp3 = kron_product(I200, I200, L_D2)\n",
    "    \n",
    "    kron_mat_add  = kp1 + kp2 + kp3\n",
    "\n",
    "    return kron_mat_add"
   ]
  },
  {
   "cell_type": "code",
   "execution_count": null,
   "metadata": {
    "ExecuteTime": {
     "end_time": "2020-01-20T08:52:35.158801Z",
     "start_time": "2020-01-20T08:52:33.077Z"
    },
    "code_folding": [
     0
    ]
   },
   "outputs": [],
   "source": [
    "def main2():\n",
    "    im2_path = str(\n",
    "        \"/home/saikrishna/Desktop/sem3/project/july/William_Harvey_Code/box1.bmp\")\n",
    "    Inew = imread(im2_path, flatten=True).astype(float)\n",
    "    Inew = gaussian_filter(Inew, FILTER)\n",
    "    u = []\n",
    "    v = []\n",
    "    U_out, V_out = eqn(A(), B(u, v), c())\n",
    "\n",
    "    quiver_plot(U_out, V_out, Inew, 1)\n",
    "    \n",
    "    \n",
    "\n",
    "main2()"
   ]
  },
  {
   "cell_type": "code",
   "execution_count": null,
   "metadata": {},
   "outputs": [],
   "source": []
  },
  {
   "cell_type": "code",
   "execution_count": null,
   "metadata": {},
   "outputs": [],
   "source": []
  }
 ],
 "metadata": {
  "hide_input": false,
  "kernelspec": {
   "display_name": "Python 3",
   "language": "python",
   "name": "python3"
  },
  "language_info": {
   "codemirror_mode": {
    "name": "ipython",
    "version": 3
   },
   "file_extension": ".py",
   "mimetype": "text/x-python",
   "name": "python",
   "nbconvert_exporter": "python",
   "pygments_lexer": "ipython3",
   "version": "3.7.3"
  },
  "toc": {
   "base_numbering": 1,
   "nav_menu": {},
   "number_sections": true,
   "sideBar": true,
   "skip_h1_title": false,
   "title_cell": "Table of Contents",
   "title_sidebar": "Contents",
   "toc_cell": false,
   "toc_position": {},
   "toc_section_display": true,
   "toc_window_display": false
  },
  "varInspector": {
   "cols": {
    "lenName": 16,
    "lenType": 16,
    "lenVar": 40
   },
   "kernels_config": {
    "python": {
     "delete_cmd_postfix": "",
     "delete_cmd_prefix": "del ",
     "library": "var_list.py",
     "varRefreshCmd": "print(var_dic_list())"
    },
    "r": {
     "delete_cmd_postfix": ") ",
     "delete_cmd_prefix": "rm(",
     "library": "var_list.r",
     "varRefreshCmd": "cat(var_dic_list()) "
    }
   },
   "types_to_exclude": [
    "module",
    "function",
    "builtin_function_or_method",
    "instance",
    "_Feature"
   ],
   "window_display": false
  }
 },
 "nbformat": 4,
 "nbformat_minor": 2
}
